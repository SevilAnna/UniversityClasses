{
  "nbformat": 4,
  "nbformat_minor": 0,
  "metadata": {
    "colab": {
      "name": "EMU322_HW2.ipynb",
      "provenance": [],
      "collapsed_sections": [
        "xdYJCE5EHPY-",
        "JDetRLi-XG1I",
        "umT5W3C3UNDk",
        "SZVzI5DVkuB2",
        "89hx7tv1nYvc",
        "ol6d2mYa7HTd",
        "MQ75IuPNOBny",
        "po81ITexTuDn",
        "Xtd-gY8hsWQj",
        "ulfnyFRm4THx"
      ],
      "authorship_tag": "ABX9TyNdq73QIe9/hDJckBKTD+OK",
      "include_colab_link": true
    },
    "kernelspec": {
      "name": "python3",
      "display_name": "Python 3"
    },
    "language_info": {
      "name": "python"
    }
  },
  "cells": [
    {
      "cell_type": "markdown",
      "metadata": {
        "id": "view-in-github",
        "colab_type": "text"
      },
      "source": [
        "<a href=\"https://colab.research.google.com/github/SevilAnna/UniversityClasses/blob/master/EM%C3%9C322%20Class/EMU322_HW2_codes.ipynb\" target=\"_parent\"><img src=\"https://colab.research.google.com/assets/colab-badge.svg\" alt=\"Open In Colab\"/></a>"
      ]
    },
    {
      "cell_type": "code",
      "metadata": {
        "id": "Pt-CD_McSQoR",
        "colab": {
          "base_uri": "https://localhost:8080/"
        },
        "outputId": "de87ee20-2bc4-40c1-c6e7-a04ef64517e4"
      },
      "source": [
        "import random\n",
        "import numpy as np\n",
        "from numpy import random\n",
        "from numpy.random import Generator, PCG64\n",
        "from scipy.stats import norm, expon, uniform\n",
        "import matplotlib.pyplot as plt\n",
        "import math\n",
        "from sympy import sin, cos\n",
        "print(\"DONE!\")"
      ],
      "execution_count": null,
      "outputs": [
        {
          "output_type": "stream",
          "text": [
            "DONE!\n"
          ],
          "name": "stdout"
        }
      ]
    },
    {
      "cell_type": "markdown",
      "metadata": {
        "id": "xdYJCE5EHPY-"
      },
      "source": [
        "# **Question 1**"
      ]
    },
    {
      "cell_type": "markdown",
      "metadata": {
        "id": "iMaScfdPHmaO"
      },
      "source": [
        "Generate 20000 normal random variables with mean  to be the sum of 5th digits of ID numbers of\n",
        "all your group members and standard deviation  should be the sum of 7th digits of ID numbers of\n",
        "all your group members. Using these numbers, find the estimated probability that a normal random\n",
        "variable with the assumed  and assumed standard deviation  is less than or equal to x where x\n",
        "can take the following values: x=-4, -3.5, -3-2.5-2, -1.5-, -0.5,\n",
        "+0.5+, +1.5+2, +2.53, +3.5+4. Compare these estimated probabilities\n",
        "with the exact ones. Comment on the results"
      ]
    },
    {
      "cell_type": "code",
      "metadata": {
        "colab": {
          "base_uri": "https://localhost:8080/",
          "height": 584
        },
        "id": "5zgnl-J4HOo1",
        "outputId": "88ab457f-3136-4c71-df63-6858489e1661"
      },
      "source": [
        "ID_1, ID_2 = 21501405, 12345678   #my ID + dummy ID\n",
        "ID_sum = str(ID_1 + ID_2)\n",
        "m, s = int(ID_sum[4]), int(ID_sum[6])   # mean & stDev\n",
        "print(\"mean:\",m, \"\\tstDev:\",s,\"\\n\")     # m = 7 , s = 8\n",
        "x_values = [m-4*s, m-3.5*s, m-3*s, m-2.5*s, m-2*s, m-1.5*s, m-s, m-0.5*s, m, \n",
        "            m+0.5*s, m+s, m+1.5*s, m+2*s, m+2.5*s, m+3*s, m+3.5*s, m+4*s]\n",
        "N=np.random.normal(m,s, size=20000)\n",
        "plt.hist(N)\n",
        "for x in x_values:\n",
        "  prob = 0\n",
        "  for n in N:\n",
        "    if n <= x:\n",
        "      prob += 1\n",
        "  prob = prob/20000\n",
        "  z_score = (x-m)/s\n",
        "  print(\"probability of the nrv being <=\",x,\"\\tis:\",prob,\"\\tz-score:\",z_score)"
      ],
      "execution_count": null,
      "outputs": [
        {
          "output_type": "stream",
          "text": [
            "mean: 7 \tstDev: 8 \n",
            "\n",
            "probability of the nrv being <= -25 \tis: 0.0 \tz-score: -4.0\n",
            "probability of the nrv being <= -21.0 \tis: 5e-05 \tz-score: -3.5\n",
            "probability of the nrv being <= -17 \tis: 0.001 \tz-score: -3.0\n",
            "probability of the nrv being <= -13.0 \tis: 0.0062 \tz-score: -2.5\n",
            "probability of the nrv being <= -9 \tis: 0.02205 \tz-score: -2.0\n",
            "probability of the nrv being <= -5.0 \tis: 0.06425 \tz-score: -1.5\n",
            "probability of the nrv being <= -1 \tis: 0.15915 \tz-score: -1.0\n",
            "probability of the nrv being <= 3.0 \tis: 0.3071 \tz-score: -0.5\n",
            "probability of the nrv being <= 7 \tis: 0.5002 \tz-score: 0.0\n",
            "probability of the nrv being <= 11.0 \tis: 0.69275 \tz-score: 0.5\n",
            "probability of the nrv being <= 15 \tis: 0.84355 \tz-score: 1.0\n",
            "probability of the nrv being <= 19.0 \tis: 0.9375 \tz-score: 1.5\n",
            "probability of the nrv being <= 23 \tis: 0.98005 \tz-score: 2.0\n",
            "probability of the nrv being <= 27.0 \tis: 0.9949 \tz-score: 2.5\n",
            "probability of the nrv being <= 31 \tis: 0.99915 \tz-score: 3.0\n",
            "probability of the nrv being <= 35.0 \tis: 0.9997 \tz-score: 3.5\n",
            "probability of the nrv being <= 39 \tis: 0.99995 \tz-score: 4.0\n"
          ],
          "name": "stdout"
        },
        {
          "output_type": "display_data",
          "data": {
            "image/png": "[encoded data removed]",
            "text/plain": [
              "<Figure size 432x288 with 1 Axes>"
            ]
          },
          "metadata": {
            "tags": [],
            "needs_background": "light"
          }
        }
      ]
    },
    {
      "cell_type": "code",
      "metadata": {
        "id": "A5ta03cPuPaM"
      },
      "source": [
        "z_score = (x-m)/s"
      ],
      "execution_count": null,
      "outputs": []
    },
    {
      "cell_type": "markdown",
      "metadata": {
        "id": "JDetRLi-XG1I"
      },
      "source": [
        "# **Question 2**"
      ]
    },
    {
      "cell_type": "markdown",
      "metadata": {
        "id": "qh-wCsOiXLE8"
      },
      "source": [
        "Recall that three line segments can form a triangle if the triangular inequalities hold for these three line segments. Use simulation to estimate the probability that three line segments (continuous) uniformly distributed over the interval [0, 6] form a triangle. Please, perform the simulation for n=20, 50, 100, 500, 1000 times and then estimate the probability for each case."
      ]
    },
    {
      "cell_type": "code",
      "metadata": {
        "colab": {
          "base_uri": "https://localhost:8080/"
        },
        "id": "fSv5h8FJXN7n",
        "outputId": "31f5958e-68ca-4dd1-a593-4f34caeb953c"
      },
      "source": [
        "points_n = [20,50,100,500,1000]\n",
        "for n in points_n:\n",
        "  prob = 0\n",
        "  for i in range(n):\n",
        "    line1 = np.random.uniform(0,6)\n",
        "    line2 = np.random.uniform(0,6-line1)\n",
        "    line3 = 6 - line1 - line2\n",
        "    #print(line1,line2,line3,line1+line2+line3)\n",
        "    #|a-b|<c<a+b\n",
        "    if abs(line1-line2)<line3<(line1+line2):\n",
        "      prob += 1\n",
        "  print(\"probability of it forming a triangle for n =\",n,\"is:\",prob/n)"
      ],
      "execution_count": null,
      "outputs": [
        {
          "output_type": "stream",
          "text": [
            "probability of it forming a triangle for n = 20 is: 0.25\n",
            "probability of it forming a triangle for n = 50 is: 0.36\n",
            "probability of it forming a triangle for n = 100 is: 0.19\n",
            "probability of it forming a triangle for n = 500 is: 0.184\n",
            "probability of it forming a triangle for n = 1000 is: 0.177\n"
          ],
          "name": "stdout"
        }
      ]
    },
    {
      "cell_type": "markdown",
      "metadata": {
        "id": "umT5W3C3UNDk"
      },
      "source": [
        "# **Question 3**"
      ]
    },
    {
      "cell_type": "markdown",
      "metadata": {
        "id": "gEWZaDlF421i"
      },
      "source": [
        "A coin having probability p=0.60 of coming up heads is successively flipped until 3 of the most\n",
        "recent 4 flips are heads. Let N denote the number of flips. Note that if the first 3 flips are heads,\n",
        "N=3. Simulate the situation for n=20, 50, 100, 500, 1000 times to compute the expected value of\n",
        "N."
      ]
    },
    {
      "cell_type": "code",
      "metadata": {
        "colab": {
          "base_uri": "https://localhost:8080/"
        },
        "id": "nEFg8kEMURX4",
        "outputId": "01e39529-d7e1-40de-d4b6-ffaa56bba1a2"
      },
      "source": [
        "point_n=[20,50,100,500,1000]\n",
        "for n in point_n:\n",
        "  totalN = 0\n",
        "  for i in range(n):\n",
        "    total = 0\n",
        "    firstflip = 0\n",
        "    secondflip = 0\n",
        "    thirdflip = 0\n",
        "    lastflip = 0\n",
        "    N = 0\n",
        "    cont = True\n",
        "    while cont == True:\n",
        "      N += 1\n",
        "      totalN += 1\n",
        "      firstflip = secondflip\n",
        "      secondflip = thirdflip\n",
        "      thirdflip = lastflip\n",
        "      flip = random.randint(100)\n",
        "      if flip < 100:\n",
        "        lastflip = 1\n",
        "      #print(firstflip, secondflip, thirdflip, lastflip)\n",
        "      total = firstflip + secondflip + thirdflip + lastflip\n",
        "      if total >= 3:\n",
        "        #print(N,totalN)\n",
        "        cont = False\n",
        "  print(\"for n =\",n,\"\\tN =\",int(totalN/n),\"flips\")"
      ],
      "execution_count": null,
      "outputs": [
        {
          "output_type": "stream",
          "text": [
            "for n = 20 \tN = 3 flips\n",
            "for n = 50 \tN = 3 flips\n",
            "for n = 100 \tN = 3 flips\n",
            "for n = 500 \tN = 3 flips\n",
            "for n = 1000 \tN = 3 flips\n"
          ],
          "name": "stdout"
        }
      ]
    },
    {
      "cell_type": "markdown",
      "metadata": {
        "id": "SZVzI5DVkuB2"
      },
      "source": [
        "# **Question 4 using Riemann**       \n"
      ]
    },
    {
      "cell_type": "markdown",
      "metadata": {
        "id": "cuxgQpSf4udC"
      },
      "source": [
        "Estimate the following integral by using Monte Carlo simulation. Please, implement both ways (probability based and Riemann sum based) to estimate the following integral. Please use  n=20,50,200,1000,5000,10000 points to estimate. Note that the argument is in radian. Comment on the results.              \n",
        "> ∫ (𝑢=0to10)        5(𝑢 + sin 2𝑢 + cos 𝑢 + cos 2𝑢) d𝑢\n",
        "\n",
        "\n"
      ]
    },
    {
      "cell_type": "code",
      "metadata": {
        "colab": {
          "base_uri": "https://localhost:8080/"
        },
        "id": "EkKdG21uCLv2",
        "outputId": "aeb17993-56e3-4eae-d855-bb1da5dadfd4"
      },
      "source": [
        "a, b = 0, 10\n",
        "points_n = [20,50,200,1000,5000,10000]\n",
        "for n in points_n:\n",
        "  N=np.random.uniform(a,b, size=n)\n",
        "  Yi_sum = 0\n",
        "  for Xi in N:\n",
        "    Yi = 5*(Xi+sin(2*Xi)+cos(Xi)+cos(2*Xi))\n",
        "    #print(Yi)\n",
        "    Yi_sum += Yi\n",
        "    #print(n,\"\\tXi\",Xi,\"\\tYi\",Yi,\"\\tSum\",Yi_sum)\n",
        "  int_i = ((b-a)/n) * Yi_sum\n",
        "  print(\"Integral for n =\",n,\"\\tpoints is: \",int_i)"
      ],
      "execution_count": null,
      "outputs": [
        {
          "output_type": "stream",
          "text": [
            "Integral for n = 20 \tpoints is:  304.227457837207\n",
            "Integral for n = 50 \tpoints is:  237.235505192686\n",
            "Integral for n = 200 \tpoints is:  243.454647418212\n",
            "Integral for n = 1000 \tpoints is:  248.926047275739\n",
            "Integral for n = 5000 \tpoints is:  249.734483834126\n",
            "Integral for n = 10000 \tpoints is:  250.655317989548\n"
          ],
          "name": "stdout"
        }
      ]
    },
    {
      "cell_type": "markdown",
      "metadata": {
        "id": "89hx7tv1nYvc"
      },
      "source": [
        "# **Question 4 using prob** "
      ]
    },
    {
      "cell_type": "markdown",
      "metadata": {
        "id": "F7BwTQge4xcK"
      },
      "source": [
        "Estimate the following integral by using Monte Carlo simulation. Please, implement both ways (probability based and Riemann sum based) to estimate the following integral. Please use  n=20,50,200,1000,5000,10000 points to estimate. Note that the argument is in radian. Comment on the results.              \n",
        "> ∫ (𝑢=0to10)        5(𝑢 + sin 2𝑢 + cos 𝑢 + cos 2𝑢) d𝑢\n",
        "\n",
        "\n"
      ]
    },
    {
      "cell_type": "code",
      "metadata": {
        "colab": {
          "base_uri": "https://localhost:8080/"
        },
        "id": "a8y1XJAuypp_",
        "outputId": "9aa00a18-b699-44d2-a1c2-5bee7a4e79df"
      },
      "source": [
        "x = 10\n",
        "y = 5*(x + math.sin(2*x) + math.cos(x) + math.cos(2*x))\n",
        "#print(y,\"radians\")\n",
        "total_area = x*y\n",
        "print(total_area)"
      ],
      "execution_count": null,
      "outputs": [
        {
          "output_type": "stream",
          "text": [
            "524.0977891732284\n"
          ],
          "name": "stdout"
        }
      ]
    },
    {
      "cell_type": "code",
      "metadata": {
        "colab": {
          "base_uri": "https://localhost:8080/"
        },
        "id": "cvAIcqWO8RSS",
        "outputId": "e5a691a2-7bbb-43da-9695-e214d1c9ef1d"
      },
      "source": [
        "points_n = [20,50,200,1000,5000,10000]\n",
        "for n in points_n:\n",
        "  m = 0\n",
        "  for j in range(n):\n",
        "    xi = numpy_randomGen.uniform(0,x)\n",
        "    yi = numpy_randomGen.uniform(0,y)\n",
        "    y2 = (5*(xi + math.sin(2*xi) + math.cos(xi) + math.cos(2*xi)))\n",
        "    #print(xi,yi,y2)\n",
        "    if yi <= y2:\n",
        "      m += 1\n",
        "  #print(m,n)\n",
        "  area = total_area * (m/n)\n",
        "  print(\"integral for n=\",n,\"\\tis:\",area)"
      ],
      "execution_count": null,
      "outputs": [
        {
          "output_type": "stream",
          "text": [
            "integral for n= 20 \tis: 235.84400512795278\n",
            "integral for n= 50 \tis: 324.94062928740163\n",
            "integral for n= 200 \tis: 267.2898724783465\n",
            "integral for n= 1000 \tis: 251.56693880314964\n",
            "integral for n= 5000 \tis: 247.26933693192916\n",
            "integral for n= 10000 \tis: 249.2084987518701\n"
          ],
          "name": "stdout"
        }
      ]
    },
    {
      "cell_type": "markdown",
      "metadata": {
        "id": "4NRmm87yzSy6"
      },
      "source": [
        "#**Question 5**"
      ]
    },
    {
      "cell_type": "code",
      "metadata": {
        "id": "Z-FvR_PHza25",
        "colab": {
          "base_uri": "https://localhost:8080/"
        },
        "outputId": "80f9ea9a-1649-441c-9a29-c5e1e0db7f29"
      },
      "source": [
        "#seed = 568\n",
        "#numpy_randomGen = Generator(PCG64(seed))\n",
        "\n",
        "points_n1 = [1000,2000,3000,4000,5000]\n",
        "points_n = random.randint(0,1,size=5)\n",
        "for o in range(0,5):\n",
        "  points_n[o] = points_n1[o]\n",
        "#print(points_n)\n",
        "\n",
        "B_list = [0,100,200,300,400,500,600,800]\n",
        "F_mean_list = random.randint(0,1,size=5)\n",
        "F_std_list = random.randint(0,1,size=5)\n",
        "\n",
        "for n in points_n1:\n",
        "  A=np.random.exponential(200, size=n)  #A\n",
        "  #print(A)\n",
        "  B=random.randint(0,1,size=n)\n",
        "  for b in range(n):                          #B\n",
        "    B1=random.randint(0,8)               \n",
        "    B[b] = B_list[B1]\n",
        "  #print(B1,\"\\n\",B)\n",
        "  C1=random.randint(0,100,size=n)             #C\n",
        "  C=random.randint(0,1,size=n)\n",
        "  for c in range(n):\n",
        "    if C1[c] < 20:\n",
        "      C[c] = 500\n",
        "    elif C1[c] < 50:\n",
        "      C[c] = 600\n",
        "    elif C1[c] < 65:\n",
        "      C[c] = 700\n",
        "    else:\n",
        "      C[c] = 800\n",
        "  #print(C1,\"\\n\",C)\n",
        "  D=np.random.normal(100,400, size=n)   #D\n",
        "  E=np.random.normal(100,400, size=n)   #E\n",
        "  #print(D,\"\\n\",E)\n",
        "  F = (6*A*B+10*C)/(4*D*E)                    #F\n",
        "  F_mean=np.mean(F)\n",
        "  F_std=np.std(F)\n",
        "  #print(F_mean,F_std)\n",
        "  ind=points_n1.index(n)\n",
        "  F_mean_list[ind] = F_mean\n",
        "  F_std_list[ind] = F_std\n",
        "print(\"n values:\",points_n,\"\\nmean:\",F_mean_list,\"\\nstDev:\",F_std_list)"
      ],
      "execution_count": null,
      "outputs": [
        {
          "output_type": "stream",
          "text": [
            "n values: [1000 2000 3000 4000 5000] \n",
            "mean: [  14   -1   28 -151    0] \n",
            "stDev: [  444   172  2141 10153   623]\n"
          ],
          "name": "stdout"
        }
      ]
    },
    {
      "cell_type": "code",
      "metadata": {
        "id": "DzPFvYS4zbZo",
        "colab": {
          "base_uri": "https://localhost:8080/",
          "height": 282
        },
        "outputId": "53c37f27-4ee1-4d57-a7a1-c97fa5702055"
      },
      "source": [
        "fig,ax = plt.subplots(1)\n",
        "ax.plot(F_mean_list,points_n,\"mo\")"
      ],
      "execution_count": null,
      "outputs": [
        {
          "output_type": "execute_result",
          "data": {
            "text/plain": [
              "[<matplotlib.lines.Line2D at 0x7f3ab6f92950>]"
            ]
          },
          "metadata": {
            "tags": []
          },
          "execution_count": 12
        },
        {
          "output_type": "display_data",
          "data": {
            "image/png": "[encoded data removed]",
            "text/plain": [
              "<Figure size 432x288 with 1 Axes>"
            ]
          },
          "metadata": {
            "tags": [],
            "needs_background": "light"
          }
        }
      ]
    },
    {
      "cell_type": "code",
      "metadata": {
        "colab": {
          "base_uri": "https://localhost:8080/",
          "height": 282
        },
        "id": "5qz85vDlINx2",
        "outputId": "f72fe24d-b001-4c1b-b412-527c9b8308a6"
      },
      "source": [
        "fig2,ax = plt.subplots(1)\n",
        "ax.plot(F_std_list,points_n,\"co\")"
      ],
      "execution_count": null,
      "outputs": [
        {
          "output_type": "execute_result",
          "data": {
            "text/plain": [
              "[<matplotlib.lines.Line2D at 0x7f3ab70ce350>]"
            ]
          },
          "metadata": {
            "tags": []
          },
          "execution_count": 13
        },
        {
          "output_type": "display_data",
          "data": {
            "image/png": "[encoded data removed]",
            "text/plain": [
              "<Figure size 432x288 with 1 Axes>"
            ]
          },
          "metadata": {
            "tags": [],
            "needs_background": "light"
          }
        }
      ]
    },
    {
      "cell_type": "code",
      "metadata": {
        "colab": {
          "base_uri": "https://localhost:8080/"
        },
        "id": "gxXCQMO4d7xE",
        "outputId": "d39dcda5-debb-41c5-a186-a66e70ed4f39"
      },
      "source": [
        "print(max(F),min(F))"
      ],
      "execution_count": null,
      "outputs": [
        {
          "output_type": "stream",
          "text": [
            "35300.57182198779 -14992.012757728704\n"
          ],
          "name": "stdout"
        }
      ]
    },
    {
      "cell_type": "code",
      "metadata": {
        "colab": {
          "base_uri": "https://localhost:8080/",
          "height": 366
        },
        "id": "C1JuD2avHi0n",
        "outputId": "634f6b39-3837-484c-9a0a-e5f6e3db756a"
      },
      "source": [
        "plt.hist(F)"
      ],
      "execution_count": null,
      "outputs": [
        {
          "output_type": "execute_result",
          "data": {
            "text/plain": [
              "(array([1.000e+00, 3.000e+00, 4.953e+03, 4.000e+01, 0.000e+00, 2.000e+00,\n",
              "        0.000e+00, 0.000e+00, 0.000e+00, 1.000e+00]),\n",
              " array([-14992.01275773,  -9962.75429976,  -4933.49584179,     95.76261619,\n",
              "          5125.02107416,  10154.27953213,  15183.5379901 ,  20212.79644807,\n",
              "         25242.05490604,  30271.31336402,  35300.57182199]),\n",
              " <a list of 10 Patch objects>)"
            ]
          },
          "metadata": {
            "tags": []
          },
          "execution_count": 15
        },
        {
          "output_type": "display_data",
          "data": {
            "image/png": "[encoded data removed]",
            "text/plain": [
              "<Figure size 432x288 with 1 Axes>"
            ]
          },
          "metadata": {
            "tags": [],
            "needs_background": "light"
          }
        }
      ]
    },
    {
      "cell_type": "code",
      "metadata": {
        "id": "dJPo8N4jHyLF",
        "colab": {
          "base_uri": "https://localhost:8080/",
          "height": 1000
        },
        "outputId": "bbb37511-e3bd-4bf7-c373-bb3bd3110a00"
      },
      "source": [
        "w = 100\n",
        "plt.hist(F, bins=np.arange(min(F), max(F) + w, w))"
      ],
      "execution_count": null,
      "outputs": [
        {
          "output_type": "execute_result",
          "data": {
            "text/plain": [
              "(array([1.000e+00, 0.000e+00, 0.000e+00, 0.000e+00, 0.000e+00, 0.000e+00,\n",
              "        0.000e+00, 0.000e+00, 0.000e+00, 0.000e+00, 0.000e+00, 0.000e+00,\n",
              "        0.000e+00, 0.000e+00, 0.000e+00, 0.000e+00, 0.000e+00, 0.000e+00,\n",
              "        0.000e+00, 0.000e+00, 0.000e+00, 0.000e+00, 0.000e+00, 0.000e+00,\n",
              "        0.000e+00, 0.000e+00, 0.000e+00, 0.000e+00, 0.000e+00, 0.000e+00,\n",
              "        0.000e+00, 0.000e+00, 0.000e+00, 0.000e+00, 0.000e+00, 0.000e+00,\n",
              "        0.000e+00, 0.000e+00, 0.000e+00, 0.000e+00, 0.000e+00, 0.000e+00,\n",
              "        0.000e+00, 0.000e+00, 0.000e+00, 0.000e+00, 0.000e+00, 0.000e+00,\n",
              "        0.000e+00, 0.000e+00, 0.000e+00, 0.000e+00, 0.000e+00, 0.000e+00,\n",
              "        0.000e+00, 0.000e+00, 0.000e+00, 0.000e+00, 0.000e+00, 0.000e+00,\n",
              "        0.000e+00, 0.000e+00, 0.000e+00, 0.000e+00, 0.000e+00, 0.000e+00,\n",
              "        0.000e+00, 0.000e+00, 0.000e+00, 0.000e+00, 0.000e+00, 0.000e+00,\n",
              "        0.000e+00, 0.000e+00, 0.000e+00, 0.000e+00, 1.000e+00, 0.000e+00,\n",
              "        0.000e+00, 0.000e+00, 1.000e+00, 0.000e+00, 0.000e+00, 0.000e+00,\n",
              "        0.000e+00, 0.000e+00, 0.000e+00, 0.000e+00, 1.000e+00, 0.000e+00,\n",
              "        0.000e+00, 0.000e+00, 0.000e+00, 0.000e+00, 0.000e+00, 0.000e+00,\n",
              "        0.000e+00, 0.000e+00, 0.000e+00, 0.000e+00, 0.000e+00, 0.000e+00,\n",
              "        0.000e+00, 0.000e+00, 0.000e+00, 1.000e+00, 0.000e+00, 1.000e+00,\n",
              "        0.000e+00, 0.000e+00, 0.000e+00, 0.000e+00, 0.000e+00, 0.000e+00,\n",
              "        0.000e+00, 1.000e+00, 0.000e+00, 0.000e+00, 0.000e+00, 0.000e+00,\n",
              "        0.000e+00, 0.000e+00, 0.000e+00, 0.000e+00, 0.000e+00, 2.000e+00,\n",
              "        0.000e+00, 0.000e+00, 1.000e+00, 0.000e+00, 0.000e+00, 0.000e+00,\n",
              "        1.000e+00, 1.000e+00, 1.000e+00, 1.000e+00, 1.000e+00, 0.000e+00,\n",
              "        0.000e+00, 2.000e+00, 0.000e+00, 1.000e+00, 1.000e+00, 1.000e+00,\n",
              "        0.000e+00, 1.000e+00, 3.000e+00, 1.300e+01, 2.300e+01, 4.561e+03,\n",
              "        3.380e+02, 1.500e+01, 9.000e+00, 5.000e+00, 4.000e+00, 0.000e+00,\n",
              "        0.000e+00, 1.000e+00, 1.000e+00, 0.000e+00, 0.000e+00, 0.000e+00,\n",
              "        0.000e+00, 1.000e+00, 0.000e+00, 0.000e+00, 0.000e+00, 0.000e+00,\n",
              "        0.000e+00, 0.000e+00, 0.000e+00, 0.000e+00, 0.000e+00, 1.000e+00,\n",
              "        0.000e+00, 0.000e+00, 0.000e+00, 1.000e+00, 0.000e+00, 0.000e+00,\n",
              "        0.000e+00, 0.000e+00, 0.000e+00, 0.000e+00, 0.000e+00, 0.000e+00,\n",
              "        0.000e+00, 0.000e+00, 0.000e+00, 0.000e+00, 0.000e+00, 0.000e+00,\n",
              "        0.000e+00, 0.000e+00, 0.000e+00, 0.000e+00, 0.000e+00, 0.000e+00,\n",
              "        0.000e+00, 0.000e+00, 0.000e+00, 0.000e+00, 0.000e+00, 0.000e+00,\n",
              "        0.000e+00, 0.000e+00, 0.000e+00, 0.000e+00, 0.000e+00, 0.000e+00,\n",
              "        0.000e+00, 0.000e+00, 0.000e+00, 0.000e+00, 0.000e+00, 0.000e+00,\n",
              "        0.000e+00, 0.000e+00, 0.000e+00, 0.000e+00, 0.000e+00, 0.000e+00,\n",
              "        0.000e+00, 0.000e+00, 0.000e+00, 0.000e+00, 0.000e+00, 0.000e+00,\n",
              "        0.000e+00, 0.000e+00, 0.000e+00, 0.000e+00, 0.000e+00, 0.000e+00,\n",
              "        0.000e+00, 0.000e+00, 0.000e+00, 0.000e+00, 0.000e+00, 0.000e+00,\n",
              "        0.000e+00, 0.000e+00, 0.000e+00, 0.000e+00, 0.000e+00, 0.000e+00,\n",
              "        0.000e+00, 0.000e+00, 0.000e+00, 0.000e+00, 0.000e+00, 0.000e+00,\n",
              "        0.000e+00, 0.000e+00, 0.000e+00, 1.000e+00, 0.000e+00, 0.000e+00,\n",
              "        1.000e+00, 0.000e+00, 0.000e+00, 0.000e+00, 0.000e+00, 0.000e+00,\n",
              "        0.000e+00, 0.000e+00, 0.000e+00, 0.000e+00, 0.000e+00, 0.000e+00,\n",
              "        0.000e+00, 0.000e+00, 0.000e+00, 0.000e+00, 0.000e+00, 0.000e+00,\n",
              "        0.000e+00, 0.000e+00, 0.000e+00, 0.000e+00, 0.000e+00, 0.000e+00,\n",
              "        0.000e+00, 0.000e+00, 0.000e+00, 0.000e+00, 0.000e+00, 0.000e+00,\n",
              "        0.000e+00, 0.000e+00, 0.000e+00, 0.000e+00, 0.000e+00, 0.000e+00,\n",
              "        0.000e+00, 0.000e+00, 0.000e+00, 0.000e+00, 0.000e+00, 0.000e+00,\n",
              "        0.000e+00, 0.000e+00, 0.000e+00, 0.000e+00, 0.000e+00, 0.000e+00,\n",
              "        0.000e+00, 0.000e+00, 0.000e+00, 0.000e+00, 0.000e+00, 0.000e+00,\n",
              "        0.000e+00, 0.000e+00, 0.000e+00, 0.000e+00, 0.000e+00, 0.000e+00,\n",
              "        0.000e+00, 0.000e+00, 0.000e+00, 0.000e+00, 0.000e+00, 0.000e+00,\n",
              "        0.000e+00, 0.000e+00, 0.000e+00, 0.000e+00, 0.000e+00, 0.000e+00,\n",
              "        0.000e+00, 0.000e+00, 0.000e+00, 0.000e+00, 0.000e+00, 0.000e+00,\n",
              "        0.000e+00, 0.000e+00, 0.000e+00, 0.000e+00, 0.000e+00, 0.000e+00,\n",
              "        0.000e+00, 0.000e+00, 0.000e+00, 0.000e+00, 0.000e+00, 0.000e+00,\n",
              "        0.000e+00, 0.000e+00, 0.000e+00, 0.000e+00, 0.000e+00, 0.000e+00,\n",
              "        0.000e+00, 0.000e+00, 0.000e+00, 0.000e+00, 0.000e+00, 0.000e+00,\n",
              "        0.000e+00, 0.000e+00, 0.000e+00, 0.000e+00, 0.000e+00, 0.000e+00,\n",
              "        0.000e+00, 0.000e+00, 0.000e+00, 0.000e+00, 0.000e+00, 0.000e+00,\n",
              "        0.000e+00, 0.000e+00, 0.000e+00, 0.000e+00, 0.000e+00, 0.000e+00,\n",
              "        0.000e+00, 0.000e+00, 0.000e+00, 0.000e+00, 0.000e+00, 0.000e+00,\n",
              "        0.000e+00, 0.000e+00, 0.000e+00, 0.000e+00, 0.000e+00, 0.000e+00,\n",
              "        0.000e+00, 0.000e+00, 0.000e+00, 0.000e+00, 0.000e+00, 0.000e+00,\n",
              "        0.000e+00, 0.000e+00, 0.000e+00, 0.000e+00, 0.000e+00, 0.000e+00,\n",
              "        0.000e+00, 0.000e+00, 0.000e+00, 0.000e+00, 0.000e+00, 0.000e+00,\n",
              "        0.000e+00, 0.000e+00, 0.000e+00, 0.000e+00, 0.000e+00, 0.000e+00,\n",
              "        0.000e+00, 0.000e+00, 0.000e+00, 0.000e+00, 0.000e+00, 0.000e+00,\n",
              "        0.000e+00, 0.000e+00, 0.000e+00, 0.000e+00, 0.000e+00, 0.000e+00,\n",
              "        0.000e+00, 0.000e+00, 0.000e+00, 0.000e+00, 0.000e+00, 0.000e+00,\n",
              "        0.000e+00, 0.000e+00, 0.000e+00, 0.000e+00, 0.000e+00, 0.000e+00,\n",
              "        0.000e+00, 0.000e+00, 0.000e+00, 0.000e+00, 0.000e+00, 0.000e+00,\n",
              "        0.000e+00, 0.000e+00, 0.000e+00, 0.000e+00, 0.000e+00, 0.000e+00,\n",
              "        0.000e+00, 0.000e+00, 0.000e+00, 0.000e+00, 0.000e+00, 0.000e+00,\n",
              "        0.000e+00, 0.000e+00, 0.000e+00, 0.000e+00, 0.000e+00, 0.000e+00,\n",
              "        0.000e+00, 0.000e+00, 0.000e+00, 0.000e+00, 0.000e+00, 0.000e+00,\n",
              "        0.000e+00, 0.000e+00, 0.000e+00, 0.000e+00, 0.000e+00, 0.000e+00,\n",
              "        0.000e+00, 0.000e+00, 0.000e+00, 0.000e+00, 0.000e+00, 0.000e+00,\n",
              "        0.000e+00, 0.000e+00, 0.000e+00, 0.000e+00, 0.000e+00, 0.000e+00,\n",
              "        0.000e+00, 0.000e+00, 0.000e+00, 0.000e+00, 0.000e+00, 0.000e+00,\n",
              "        0.000e+00, 0.000e+00, 0.000e+00, 0.000e+00, 0.000e+00, 0.000e+00,\n",
              "        0.000e+00, 0.000e+00, 0.000e+00, 0.000e+00, 1.000e+00]),\n",
              " array([-1.49920128e+04, -1.48920128e+04, -1.47920128e+04, -1.46920128e+04,\n",
              "        -1.45920128e+04, -1.44920128e+04, -1.43920128e+04, -1.42920128e+04,\n",
              "        -1.41920128e+04, -1.40920128e+04, -1.39920128e+04, -1.38920128e+04,\n",
              "        -1.37920128e+04, -1.36920128e+04, -1.35920128e+04, -1.34920128e+04,\n",
              "        -1.33920128e+04, -1.32920128e+04, -1.31920128e+04, -1.30920128e+04,\n",
              "        -1.29920128e+04, -1.28920128e+04, -1.27920128e+04, -1.26920128e+04,\n",
              "        -1.25920128e+04, -1.24920128e+04, -1.23920128e+04, -1.22920128e+04,\n",
              "        -1.21920128e+04, -1.20920128e+04, -1.19920128e+04, -1.18920128e+04,\n",
              "        -1.17920128e+04, -1.16920128e+04, -1.15920128e+04, -1.14920128e+04,\n",
              "        -1.13920128e+04, -1.12920128e+04, -1.11920128e+04, -1.10920128e+04,\n",
              "        -1.09920128e+04, -1.08920128e+04, -1.07920128e+04, -1.06920128e+04,\n",
              "        -1.05920128e+04, -1.04920128e+04, -1.03920128e+04, -1.02920128e+04,\n",
              "        -1.01920128e+04, -1.00920128e+04, -9.99201276e+03, -9.89201276e+03,\n",
              "        -9.79201276e+03, -9.69201276e+03, -9.59201276e+03, -9.49201276e+03,\n",
              "        -9.39201276e+03, -9.29201276e+03, -9.19201276e+03, -9.09201276e+03,\n",
              "        -8.99201276e+03, -8.89201276e+03, -8.79201276e+03, -8.69201276e+03,\n",
              "        -8.59201276e+03, -8.49201276e+03, -8.39201276e+03, -8.29201276e+03,\n",
              "        -8.19201276e+03, -8.09201276e+03, -7.99201276e+03, -7.89201276e+03,\n",
              "        -7.79201276e+03, -7.69201276e+03, -7.59201276e+03, -7.49201276e+03,\n",
              "        -7.39201276e+03, -7.29201276e+03, -7.19201276e+03, -7.09201276e+03,\n",
              "        -6.99201276e+03, -6.89201276e+03, -6.79201276e+03, -6.69201276e+03,\n",
              "        -6.59201276e+03, -6.49201276e+03, -6.39201276e+03, -6.29201276e+03,\n",
              "        -6.19201276e+03, -6.09201276e+03, -5.99201276e+03, -5.89201276e+03,\n",
              "        -5.79201276e+03, -5.69201276e+03, -5.59201276e+03, -5.49201276e+03,\n",
              "        -5.39201276e+03, -5.29201276e+03, -5.19201276e+03, -5.09201276e+03,\n",
              "        -4.99201276e+03, -4.89201276e+03, -4.79201276e+03, -4.69201276e+03,\n",
              "        -4.59201276e+03, -4.49201276e+03, -4.39201276e+03, -4.29201276e+03,\n",
              "        -4.19201276e+03, -4.09201276e+03, -3.99201276e+03, -3.89201276e+03,\n",
              "        -3.79201276e+03, -3.69201276e+03, -3.59201276e+03, -3.49201276e+03,\n",
              "        -3.39201276e+03, -3.29201276e+03, -3.19201276e+03, -3.09201276e+03,\n",
              "        -2.99201276e+03, -2.89201276e+03, -2.79201276e+03, -2.69201276e+03,\n",
              "        -2.59201276e+03, -2.49201276e+03, -2.39201276e+03, -2.29201276e+03,\n",
              "        -2.19201276e+03, -2.09201276e+03, -1.99201276e+03, -1.89201276e+03,\n",
              "        -1.79201276e+03, -1.69201276e+03, -1.59201276e+03, -1.49201276e+03,\n",
              "        -1.39201276e+03, -1.29201276e+03, -1.19201276e+03, -1.09201276e+03,\n",
              "        -9.92012758e+02, -8.92012758e+02, -7.92012758e+02, -6.92012758e+02,\n",
              "        -5.92012758e+02, -4.92012758e+02, -3.92012758e+02, -2.92012758e+02,\n",
              "        -1.92012758e+02, -9.20127577e+01,  7.98724227e+00,  1.07987242e+02,\n",
              "         2.07987242e+02,  3.07987242e+02,  4.07987242e+02,  5.07987242e+02,\n",
              "         6.07987242e+02,  7.07987242e+02,  8.07987242e+02,  9.07987242e+02,\n",
              "         1.00798724e+03,  1.10798724e+03,  1.20798724e+03,  1.30798724e+03,\n",
              "         1.40798724e+03,  1.50798724e+03,  1.60798724e+03,  1.70798724e+03,\n",
              "         1.80798724e+03,  1.90798724e+03,  2.00798724e+03,  2.10798724e+03,\n",
              "         2.20798724e+03,  2.30798724e+03,  2.40798724e+03,  2.50798724e+03,\n",
              "         2.60798724e+03,  2.70798724e+03,  2.80798724e+03,  2.90798724e+03,\n",
              "         3.00798724e+03,  3.10798724e+03,  3.20798724e+03,  3.30798724e+03,\n",
              "         3.40798724e+03,  3.50798724e+03,  3.60798724e+03,  3.70798724e+03,\n",
              "         3.80798724e+03,  3.90798724e+03,  4.00798724e+03,  4.10798724e+03,\n",
              "         4.20798724e+03,  4.30798724e+03,  4.40798724e+03,  4.50798724e+03,\n",
              "         4.60798724e+03,  4.70798724e+03,  4.80798724e+03,  4.90798724e+03,\n",
              "         5.00798724e+03,  5.10798724e+03,  5.20798724e+03,  5.30798724e+03,\n",
              "         5.40798724e+03,  5.50798724e+03,  5.60798724e+03,  5.70798724e+03,\n",
              "         5.80798724e+03,  5.90798724e+03,  6.00798724e+03,  6.10798724e+03,\n",
              "         6.20798724e+03,  6.30798724e+03,  6.40798724e+03,  6.50798724e+03,\n",
              "         6.60798724e+03,  6.70798724e+03,  6.80798724e+03,  6.90798724e+03,\n",
              "         7.00798724e+03,  7.10798724e+03,  7.20798724e+03,  7.30798724e+03,\n",
              "         7.40798724e+03,  7.50798724e+03,  7.60798724e+03,  7.70798724e+03,\n",
              "         7.80798724e+03,  7.90798724e+03,  8.00798724e+03,  8.10798724e+03,\n",
              "         8.20798724e+03,  8.30798724e+03,  8.40798724e+03,  8.50798724e+03,\n",
              "         8.60798724e+03,  8.70798724e+03,  8.80798724e+03,  8.90798724e+03,\n",
              "         9.00798724e+03,  9.10798724e+03,  9.20798724e+03,  9.30798724e+03,\n",
              "         9.40798724e+03,  9.50798724e+03,  9.60798724e+03,  9.70798724e+03,\n",
              "         9.80798724e+03,  9.90798724e+03,  1.00079872e+04,  1.01079872e+04,\n",
              "         1.02079872e+04,  1.03079872e+04,  1.04079872e+04,  1.05079872e+04,\n",
              "         1.06079872e+04,  1.07079872e+04,  1.08079872e+04,  1.09079872e+04,\n",
              "         1.10079872e+04,  1.11079872e+04,  1.12079872e+04,  1.13079872e+04,\n",
              "         1.14079872e+04,  1.15079872e+04,  1.16079872e+04,  1.17079872e+04,\n",
              "         1.18079872e+04,  1.19079872e+04,  1.20079872e+04,  1.21079872e+04,\n",
              "         1.22079872e+04,  1.23079872e+04,  1.24079872e+04,  1.25079872e+04,\n",
              "         1.26079872e+04,  1.27079872e+04,  1.28079872e+04,  1.29079872e+04,\n",
              "         1.30079872e+04,  1.31079872e+04,  1.32079872e+04,  1.33079872e+04,\n",
              "         1.34079872e+04,  1.35079872e+04,  1.36079872e+04,  1.37079872e+04,\n",
              "         1.38079872e+04,  1.39079872e+04,  1.40079872e+04,  1.41079872e+04,\n",
              "         1.42079872e+04,  1.43079872e+04,  1.44079872e+04,  1.45079872e+04,\n",
              "         1.46079872e+04,  1.47079872e+04,  1.48079872e+04,  1.49079872e+04,\n",
              "         1.50079872e+04,  1.51079872e+04,  1.52079872e+04,  1.53079872e+04,\n",
              "         1.54079872e+04,  1.55079872e+04,  1.56079872e+04,  1.57079872e+04,\n",
              "         1.58079872e+04,  1.59079872e+04,  1.60079872e+04,  1.61079872e+04,\n",
              "         1.62079872e+04,  1.63079872e+04,  1.64079872e+04,  1.65079872e+04,\n",
              "         1.66079872e+04,  1.67079872e+04,  1.68079872e+04,  1.69079872e+04,\n",
              "         1.70079872e+04,  1.71079872e+04,  1.72079872e+04,  1.73079872e+04,\n",
              "         1.74079872e+04,  1.75079872e+04,  1.76079872e+04,  1.77079872e+04,\n",
              "         1.78079872e+04,  1.79079872e+04,  1.80079872e+04,  1.81079872e+04,\n",
              "         1.82079872e+04,  1.83079872e+04,  1.84079872e+04,  1.85079872e+04,\n",
              "         1.86079872e+04,  1.87079872e+04,  1.88079872e+04,  1.89079872e+04,\n",
              "         1.90079872e+04,  1.91079872e+04,  1.92079872e+04,  1.93079872e+04,\n",
              "         1.94079872e+04,  1.95079872e+04,  1.96079872e+04,  1.97079872e+04,\n",
              "         1.98079872e+04,  1.99079872e+04,  2.00079872e+04,  2.01079872e+04,\n",
              "         2.02079872e+04,  2.03079872e+04,  2.04079872e+04,  2.05079872e+04,\n",
              "         2.06079872e+04,  2.07079872e+04,  2.08079872e+04,  2.09079872e+04,\n",
              "         2.10079872e+04,  2.11079872e+04,  2.12079872e+04,  2.13079872e+04,\n",
              "         2.14079872e+04,  2.15079872e+04,  2.16079872e+04,  2.17079872e+04,\n",
              "         2.18079872e+04,  2.19079872e+04,  2.20079872e+04,  2.21079872e+04,\n",
              "         2.22079872e+04,  2.23079872e+04,  2.24079872e+04,  2.25079872e+04,\n",
              "         2.26079872e+04,  2.27079872e+04,  2.28079872e+04,  2.29079872e+04,\n",
              "         2.30079872e+04,  2.31079872e+04,  2.32079872e+04,  2.33079872e+04,\n",
              "         2.34079872e+04,  2.35079872e+04,  2.36079872e+04,  2.37079872e+04,\n",
              "         2.38079872e+04,  2.39079872e+04,  2.40079872e+04,  2.41079872e+04,\n",
              "         2.42079872e+04,  2.43079872e+04,  2.44079872e+04,  2.45079872e+04,\n",
              "         2.46079872e+04,  2.47079872e+04,  2.48079872e+04,  2.49079872e+04,\n",
              "         2.50079872e+04,  2.51079872e+04,  2.52079872e+04,  2.53079872e+04,\n",
              "         2.54079872e+04,  2.55079872e+04,  2.56079872e+04,  2.57079872e+04,\n",
              "         2.58079872e+04,  2.59079872e+04,  2.60079872e+04,  2.61079872e+04,\n",
              "         2.62079872e+04,  2.63079872e+04,  2.64079872e+04,  2.65079872e+04,\n",
              "         2.66079872e+04,  2.67079872e+04,  2.68079872e+04,  2.69079872e+04,\n",
              "         2.70079872e+04,  2.71079872e+04,  2.72079872e+04,  2.73079872e+04,\n",
              "         2.74079872e+04,  2.75079872e+04,  2.76079872e+04,  2.77079872e+04,\n",
              "         2.78079872e+04,  2.79079872e+04,  2.80079872e+04,  2.81079872e+04,\n",
              "         2.82079872e+04,  2.83079872e+04,  2.84079872e+04,  2.85079872e+04,\n",
              "         2.86079872e+04,  2.87079872e+04,  2.88079872e+04,  2.89079872e+04,\n",
              "         2.90079872e+04,  2.91079872e+04,  2.92079872e+04,  2.93079872e+04,\n",
              "         2.94079872e+04,  2.95079872e+04,  2.96079872e+04,  2.97079872e+04,\n",
              "         2.98079872e+04,  2.99079872e+04,  3.00079872e+04,  3.01079872e+04,\n",
              "         3.02079872e+04,  3.03079872e+04,  3.04079872e+04,  3.05079872e+04,\n",
              "         3.06079872e+04,  3.07079872e+04,  3.08079872e+04,  3.09079872e+04,\n",
              "         3.10079872e+04,  3.11079872e+04,  3.12079872e+04,  3.13079872e+04,\n",
              "         3.14079872e+04,  3.15079872e+04,  3.16079872e+04,  3.17079872e+04,\n",
              "         3.18079872e+04,  3.19079872e+04,  3.20079872e+04,  3.21079872e+04,\n",
              "         3.22079872e+04,  3.23079872e+04,  3.24079872e+04,  3.25079872e+04,\n",
              "         3.26079872e+04,  3.27079872e+04,  3.28079872e+04,  3.29079872e+04,\n",
              "         3.30079872e+04,  3.31079872e+04,  3.32079872e+04,  3.33079872e+04,\n",
              "         3.34079872e+04,  3.35079872e+04,  3.36079872e+04,  3.37079872e+04,\n",
              "         3.38079872e+04,  3.39079872e+04,  3.40079872e+04,  3.41079872e+04,\n",
              "         3.42079872e+04,  3.43079872e+04,  3.44079872e+04,  3.45079872e+04,\n",
              "         3.46079872e+04,  3.47079872e+04,  3.48079872e+04,  3.49079872e+04,\n",
              "         3.50079872e+04,  3.51079872e+04,  3.52079872e+04,  3.53079872e+04]),\n",
              " <a list of 503 Patch objects>)"
            ]
          },
          "metadata": {
            "tags": []
          },
          "execution_count": 16
        },
        {
          "output_type": "display_data",
          "data": {
            "image/png": "[encoded data removed]",
            "text/plain": [
              "<Figure size 432x288 with 1 Axes>"
            ]
          },
          "metadata": {
            "tags": [],
            "needs_background": "light"
          }
        }
      ]
    },
    {
      "cell_type": "markdown",
      "metadata": {
        "id": "ol6d2mYa7HTd"
      },
      "source": [
        "# **Question 6**"
      ]
    },
    {
      "cell_type": "markdown",
      "metadata": {
        "id": "DIb3Ijy19yBs"
      },
      "source": [
        "A baker is trying to figure out how many bagels to bake each day. The probability distribution of the number of bagel customers is as follows:       \n",
        "\n",
        "> Number of customers per day: $\\;\\;\\;\\;\\;\\;$ 10 $\\;\\;\\;$ 12 $\\;\\;\\;$ 14 $\\;\\;\\;\\;$  16 $\\;\\;\\;\\;$ 18        \n",
        "> Probability: $\\;\\;\\;\\;\\;\\;\\;\\;\\;\\;\\;\\;\\;\\;\\;\\;\\;\\;\\;\\;\\;\\;\\;\\;\\;\\;\\;\\;\\;\\;\\;\\;\\;$ 0.20 $\\;$ 0.10 $\\;$ 0.30 $\\;$ 0.25 $\\;$ 0.15       \n",
        "\n",
        "Each customer, independent of the others, order 12, 24, 36 or 48 bagels according to the following probability distribution:        \n",
        "\n",
        "> Number of bagels: $\\;\\;\\;\\;\\;\\;$ 12 $\\;\\;\\;\\;$ 24 $\\;\\;\\;$ 36 $\\;\\;\\;\\;$ 48        \n",
        "> Probability: $\\;\\;\\;\\;\\;\\;\\;\\;\\;\\;\\;\\;\\;\\;\\;\\;$ 0.30 $\\;$ 0.40 $\\;$ 0.25 $\\;$ 0.05           \n",
        "\n",
        "Bagels sell for 1.4 TL per item. 6 bagels cost 5.4 TL to make. All bagels not sold at the end of the day are sold at half-price (0.7 TL per bagel) to a local grocery store. Based on 500 days of simulation, how many bagels should be baked each day? Try the following values: 216, 228, 240, 252, 264, 276, 288, 300."
      ]
    },
    {
      "cell_type": "code",
      "metadata": {
        "colab": {
          "base_uri": "https://localhost:8080/"
        },
        "id": "PoDkxR0i7TPq",
        "outputId": "458ea684-aa41-461b-eda3-e66fb7aa83aa"
      },
      "source": [
        "n_list = [216,228,240,252,265,276,288,300]\n",
        "total_list = []\n",
        "for n in n_list:\n",
        "  total_earned = 0\n",
        "  for days in range(500):\n",
        "    made = n\n",
        "    sold = 0\n",
        "    customers = [10,12,14,16,18]\n",
        "    c_prob_list = [20,30,60,85,100]\n",
        "    c_prob = random.randint(0,100)\n",
        "    #print(\"c_prob:\",c_prob)\n",
        "    x = True\n",
        "    while x == True:\n",
        "      for c in c_prob_list:\n",
        "        if c_prob <= c and x == True:\n",
        "          ind = c_prob_list.index(c)\n",
        "          #print(\"c:\",c,\"ind:\",ind)\n",
        "          no_cust = customers[ind]\n",
        "          x = False\n",
        "    #print(\"no. of customers:\",no_cust)\n",
        "    for cust in range(no_cust):\n",
        "      bagels = [12,24,36,48]\n",
        "      b_prob_list = [30,70,95,100]\n",
        "      b_prob = random.randint(0,100)\n",
        "      y = True\n",
        "      while y == True:\n",
        "        for b in b_prob_list:\n",
        "          if b_prob <= b and y == True:\n",
        "            ind2 = b_prob_list.index(b)\n",
        "            no_bagel = bagels[ind2]\n",
        "            y = False\n",
        "      #print(cust,\"no. of bagels:\",no_bagel)\n",
        "      if made > sold + no_bagel:\n",
        "        sold += no_bagel\n",
        "    earned = sold*1.4\n",
        "    earned_grocery = (made - sold)*0.7\n",
        "    #print(\"made:\",made,\"sold:\",sold,\"earned:\",earned,earned_grocery)\n",
        "    total_earned += (earned + earned_grocery)    \n",
        "  #print(\"for\",n,\"bagels we make:\",total_earned/500,\"TL/day on average\")\n",
        "  total_list.append(total_earned)\n",
        "max_earned = max(total_list)\n",
        "ind3 = total_list.index(max_earned)\n",
        "for n in n_list:\n",
        "  if n_list.index(n) == ind3:\n",
        "    print(\"We should make\",n,\"bagels\") \n"
      ],
      "execution_count": null,
      "outputs": [
        {
          "output_type": "stream",
          "text": [
            "We should make 300 bagels\n"
          ],
          "name": "stdout"
        }
      ]
    },
    {
      "cell_type": "code",
      "metadata": {
        "id": "j2HcQHAMIHev"
      },
      "source": [
        ""
      ],
      "execution_count": null,
      "outputs": []
    },
    {
      "cell_type": "markdown",
      "metadata": {
        "id": "MQ75IuPNOBny"
      },
      "source": [
        "# **Question 7**\n"
      ]
    },
    {
      "cell_type": "markdown",
      "metadata": {
        "id": "nmBDLw0Q4p2r"
      },
      "source": [
        "A prisoner is trapped in a cell containing five doors. The first door leads to a tunnel which returns to his cell after three days of travel. The second leads to a tunnel which returns him to his cell after a single day of travel. The third door leads him immediately to freedom. The fourth door leads to a tunnel that will take him to freedom after two days of travel and the fifth door leads to a tunnel that will take him to the beginning of the tunnel of the second door after three days of travel. Assuming that the prisoner will always select doors 1, 2, 3, 4 and 5 with probabilities 0.25, 0.15, 0.1, 0.2 and 0.3 respectively, simulate the system for n=20, 50, 100, 500, 1000 times to compute the expected number and variance of days until the prisoner reaches freedom?"
      ]
    },
    {
      "cell_type": "code",
      "metadata": {
        "colab": {
          "base_uri": "https://localhost:8080/"
        },
        "id": "DgclK-nAOEta",
        "outputId": "27b6475c-88c6-4e4d-b946-2d14f41d51f3"
      },
      "source": [
        "points_n = [20,50,200,1000,5000,10000]\n",
        "print(\"\\t n\\t\\t E[X]\\t\\t V[X]\")\n",
        "print(\"\\t---------------------------------------------------\")\n",
        "for n in points_n:\n",
        "  total = []\n",
        "  for i in range(n):\n",
        "    freedom = False\n",
        "    days = 0\n",
        "    while freedom == False:\n",
        "      prob = random.randint(0,100)\n",
        "      if prob < 25:\n",
        "        days += 3       # door 1\n",
        "      elif prob < 40:\n",
        "        days += 1       # door 2\n",
        "      elif prob < 50:\n",
        "        freedom = True  # door 3\n",
        "      elif prob < 70:\n",
        "        days += 2       # door 4\n",
        "        freedom = True\n",
        "      else:\n",
        "        days += 4       # door 5\n",
        "      #print(days)\n",
        "    total.append(days)\n",
        "    #print(\"days took:\",days)\n",
        "  \n",
        "  print(\"\\t\",n,\"\\t\\t\",np.mean(total),\"    \\t\",np.var(total))"
      ],
      "execution_count": null,
      "outputs": [
        {
          "output_type": "stream",
          "text": [
            "\t n\t\t E[X]\t\t V[X]\n",
            "\t---------------------------------------------------\n",
            "\t 20 \t\t 8.45     \t 114.1475\n",
            "\t 50 \t\t 8.02     \t 63.2596\n",
            "\t 200 \t\t 7.735     \t 67.744775\n",
            "\t 1000 \t\t 8.005     \t 61.472975\n",
            "\t 5000 \t\t 8.5058     \t 76.18116635999999\n",
            "\t 10000 \t\t 8.3812     \t 76.62648656\n"
          ],
          "name": "stdout"
        }
      ]
    },
    {
      "cell_type": "markdown",
      "metadata": {
        "id": "po81ITexTuDn"
      },
      "source": [
        "# **Question 8**"
      ]
    },
    {
      "cell_type": "markdown",
      "metadata": {
        "id": "yzqt8osMT7dq"
      },
      "source": [
        "A heart specialist schedules 16 patients each day, 1 every 30 minutes, starting at 9 A.M. Patients are expected to arrive for their appointments at the scheduled times. However, past experience shows that 10% of all patients arrive 15 minutes early, 25% arrive 5 minutes early, 50% arrive exactly on time, 10% arrive 10 minutes late, and 5% arrive 15 minutes late. The time the specialist spends with a patient varies, depending on the type of problem. Analysis of past data shows that the length of an appointment has the distribution in the following table. Simulate the system for 200 days to calculate the following performance measures:           \n",
        "a. The probability that a patient will not wait in the queue.         \n",
        "b. The probability that the last patient will not wait in the queue.       \n",
        "c. The utilization of the specialist.       \n",
        "\n",
        "\n",
        "> Length of appointment: $\\;\\;\\;\\;\\;$ 24 $\\;\\;\\;\\;\\;\\;$ 27 $\\;\\;\\;\\;\\;$ 30 $\\;\\;\\;\\;\\;\\;$ 33 $\\;\\;\\;\\;\\;\\;$ 36 $\\;\\;\\;\\;\\;$ 39 $\\;\\;$ (minutes)      \n",
        "> Probability: $\\;\\;\\;\\;\\;\\;\\;\\;\\;\\;\\;\\;\\;\\;\\;\\;\\;\\;\\;\\;\\;\\;$ 0.20 $\\;\\;\\;$ 0.25 $\\;\\;\\;$ 0.30 $\\;\\;\\;$ 0.10 $\\;\\;\\;$ 0.10 $\\;\\;\\;$ 0.05\n",
        "\n",
        "\n",
        "Note: You can assume that if a patient arrives early, the doctor will immediately start the examination if he is idle."
      ]
    },
    {
      "cell_type": "code",
      "metadata": {
        "colab": {
          "base_uri": "https://localhost:8080/"
        },
        "id": "Tzlg8ZN7TxwF",
        "outputId": "163a9335-df28-439d-ff4b-a01e89434e94"
      },
      "source": [
        "n, patients = 2, 16\n",
        "total_queue_prob = 0\n",
        "last_patient_prob = 0\n",
        "utilization = 0\n",
        "for num in range(n):\n",
        "  t_ser_begins = [0]*16\n",
        "  t_ser_ends = [0]*16\n",
        "  p_arr_times = [0]*16\n",
        "  p_ser_times = [0]*16\n",
        "  p_queue_times = [0]*16\n",
        "\n",
        "  arr_time_list = [-15,-5,0,10,15] \n",
        "  arr_per_list = [10,35,85,95,100]\n",
        "  ser_time_list = [24,27,30,33,36,39]\n",
        "  ser_per_list = [20,45,75,85,95,100]\n",
        "\n",
        "  for p in range(patients):\n",
        "    arr_per = random.randint(0,100)\n",
        "    x = True\n",
        "    while x == True:\n",
        "      for a in arr_per_list:\n",
        "        if arr_per <= a and x == True:\n",
        "          ind = arr_per_list.index(a)\n",
        "          arr_time = arr_time_list[ind]\n",
        "          x = False   \n",
        "    len_prob = random.randint(0,100)\n",
        "    y = True\n",
        "    while y == True:\n",
        "      for l in ser_per_list:\n",
        "        if len_prob <= l and y == True:\n",
        "          ind2 = ser_per_list.index(l)\n",
        "          ser_time = ser_time_list[ind2]\n",
        "          y = False\n",
        "\n",
        "    # 9AM: 60min*9 = 540min\n",
        "    arrived_at = 540 + p*30 + arr_time\n",
        "    p_arr_times[p] = arrived_at\n",
        "    p_ser_times[p] = ser_time\n",
        "\n",
        "    if p == 0 and p_arr_times[p] <= 540:\n",
        "      t_ser_begins[p] = 540\n",
        "    elif p == 0 and p_arr_times[p] > 540:\n",
        "      t_ser_begins[p] = p_arr_times[p]\n",
        "    else:\n",
        "      t_ser_begins[p] = max(t_ser_ends[p-1],p_arr_times[p])\n",
        "      p_queue_times[p] = t_ser_begins[p] - p_arr_times[p]\n",
        "      if p_queue_times[p] > 0:\n",
        "        total_queue_prob += 1\n",
        "        if p == 15:\n",
        "          last_patient_prob += 1\n",
        "    t_ser_ends[p] = t_ser_begins[p] + p_ser_times[p]\n",
        "\n",
        "  utilization += sum(p_ser_times) / (t_ser_ends[15]-540)\n",
        "  print()\n",
        "  print(\"--------------\\n\",p_arr_times,\"\\n\",p_ser_times,\"\\n\")\n",
        "  print(t_ser_begins,\"\\n\",t_ser_ends,\"\\n\",p_queue_times)\n",
        "\n",
        "print(\"a. The probability a patient will not wait in queue is: \",\n",
        "        1 - (total_queue_prob/(n*16)) )\n",
        "print(\"b. Probability the last patient doesn't wait in queue: \",\n",
        "        1 - (last_patient_prob/n) )\n",
        "print(\"c. The utilization percentage of the specialist is: \",utilization/n)"
      ],
      "execution_count": null,
      "outputs": [
        {
          "output_type": "stream",
          "text": [
            "--------------\n",
            " [540, 580, 595, 630, 675, 690, 720, 750, 780, 795, 840, 865, 900, 930, 955, 985] \n",
            " [24, 24, 30, 36, 33, 27, 24, 30, 39, 36, 24, 33, 30, 30, 30, 30] \n",
            "\n",
            "[540, 580, 604, 634, 675, 708, 735, 759, 789, 828, 864, 888, 921, 951, 981, 1011] \n",
            " [564, 604, 634, 670, 708, 735, 759, 789, 828, 864, 888, 921, 951, 981, 1011, 1041] \n",
            " [0, 0, 9, 4, 0, 18, 15, 9, 9, 33, 24, 23, 21, 21, 26, 26]\n",
            "--------------\n",
            " [525, 565, 595, 625, 660, 675, 720, 750, 780, 810, 840, 870, 900, 930, 945, 990] \n",
            " [27, 30, 27, 30, 24, 27, 27, 33, 27, 24, 27, 30, 33, 27, 33, 27] \n",
            "\n",
            "[540, 567, 597, 625, 660, 684, 720, 750, 783, 810, 840, 870, 900, 933, 960, 993] \n",
            " [567, 597, 624, 655, 684, 711, 747, 783, 810, 834, 867, 900, 933, 960, 993, 1020] \n",
            " [0, 2, 2, 0, 0, 9, 0, 0, 3, 0, 0, 0, 0, 3, 15, 3]\n",
            "a. The probability a patient will not wait in queue is:  0.375\n",
            "b. Probability the last patient doesn't wait in queue:  0.0\n",
            "c. The utilization percentage of the specialist is:  0.9509169161676647\n"
          ],
          "name": "stdout"
        }
      ]
    },
    {
      "cell_type": "markdown",
      "metadata": {
        "id": "Xtd-gY8hsWQj"
      },
      "source": [
        "# **Question 9**"
      ]
    },
    {
      "cell_type": "markdown",
      "metadata": {
        "id": "lUkt-wOjsw1O"
      },
      "source": [
        "A large car dealership employs a sales person where he works on commission, e.g. he is paid a percentage of profits from the cars that he sells. The dealership has three types of cars: luxury, midsize and compact. Data from past years show that the car sales per week and type of cars sold have the distributions given below. If the car sold is compact, the sales person is given a commission of 250 TL. For a midsize car, the commission is either 400 TL or 500 TL, depending on the model sold. On the midsize cars, a commission of 400 TL is paid out of 40% of the time and 500 TL is paid out the other 60% of the time. For a luxury car, commission is paid out according to three separate rates: 1000 TL with a probability of 35%, 1500 TL with a probability of 40%, and 2000 TL with a probability of 25%. For a van, commission is paid according to the following rates: 2000 TL with a probability of 40% and 3000 TL with a probability of 60%.\n",
        "\n",
        "\n",
        "> \\# of cars sold $\\;\\;$ Probability $\\;\\;\\;\\;\\;\\;\\;\\;$ $\\;\\;$ Type of car sold $\\;\\;$ $\\;$ Probability           \n",
        "> $\\;\\;$ $\\;\\;$ $\\;\\;$ 0 $\\;\\;$ $\\;\\;$ $\\;\\;$ $\\;\\;$ 0.10 $\\;\\;$ $\\;\\;$ $\\;\\;$ $\\;\\;$ $\\;\\;$ $\\;\\;$ $\\;\\;$ Compact $\\;\\;$ $\\;\\;$ $\\;\\;$ $\\;\\;$ $\\;\\;$ 0.45          \n",
        "> $\\;\\;$ $\\;\\;$ $\\;\\;$ 1 $\\;\\;$ $\\;\\;$ $\\;\\;$ $\\;\\;$ 0.10 $\\;\\;$ $\\;\\;$ $\\;\\;$ $\\;\\;$ $\\;\\;$ $\\;\\;$ $\\;\\;$ Midsize $\\;\\;$ $\\;\\;$ $\\;\\;$ $\\;\\;$ $\\;\\;$ $\\;$ 0.30          \n",
        "> $\\;\\;$ $\\;\\;$ $\\;\\;$ 2 $\\;\\;$ $\\;\\;$ $\\;\\;$ $\\;\\;$ 0.15 $\\;\\;$ $\\;\\;$ $\\;\\;$ $\\;\\;$ $\\;\\;$ $\\;\\;$ $\\;\\;$ Luxury $\\;\\;$ $\\;\\;\\;\\;\\;\\;$ $\\;\\;$ $\\;\\;$ $\\;\\;$ 0.10            \n",
        "> $\\;\\;$ $\\;\\;$ $\\;\\;$ 3 $\\;\\;$ $\\;\\;$ $\\;\\;$ $\\;\\;$ 0.20 $\\;\\;$ $\\;\\;$ $\\;\\;$ $\\;\\;$ $\\;\\;$ $\\;\\;$ $\\;\\;$ Van $\\;\\;$ $\\;\\;$ $\\;\\;$ $\\;\\;$ $\\;\\;\\;\\;\\;\\;\\;\\;\\;\\;$  0.15             \n",
        "> $\\;\\;$ $\\;\\;$ $\\;\\;$ 4 $\\;\\;$ $\\;\\;$ $\\;\\;$ $\\;\\;$ 0.20              \n",
        "> $\\;\\;$ $\\;\\;$ $\\;\\;$ 5 $\\;\\;$ $\\;\\;$ $\\;\\;$ $\\;\\;$ 0.15             \n",
        "> $\\;\\;$ $\\;\\;$ $\\;\\;$ 6 $\\;\\;$ $\\;\\;$ $\\;\\;$ $\\;\\;$ 0.10             \n",
        "\n",
        "Simulate the system for 300 weeks to estimate the expected commission that a salesperson is paid in a week and compute the probability that the sales person earns a commission more than 10000 TL per week.\n",
        "\n",
        "\n",
        "\n",
        "\n",
        "\n"
      ]
    },
    {
      "cell_type": "code",
      "metadata": {
        "colab": {
          "base_uri": "https://localhost:8080/"
        },
        "id": "5wOvvEoYsZ6c",
        "outputId": "be7e84d7-13a3-4f9e-c96a-25e5d35809e6"
      },
      "source": [
        "import random\n",
        "total_com = 0\n",
        "counter = 0\n",
        "for i in range(300):\n",
        "    n_car = random.random()\n",
        "    car_num = 0\n",
        "    compact = 0\n",
        "    midsize = 0\n",
        "    luxury = 0\n",
        "    van = 0\n",
        "    no_sold_list = [0,1,2,3,4,5,6]\n",
        "    prob_sold_list = [10,20,35,55,75,90,100]\n",
        "    s_prob = random.randint(0,100)\n",
        "    x = True\n",
        "    while x == True:\n",
        "      for s in prob_sold_list:\n",
        "        if s_prob <= s and x == True:\n",
        "          ind = prob_sold_list.index(s)\n",
        "          #print(\"s:\",s,\"ind:\",ind)\n",
        "          car_num = no_sold_list[ind]\n",
        "          x = False\n",
        "    for i in range(car_num):\n",
        "        a = random.random()\n",
        "        if a < 0.45:\n",
        "            compact += 1\n",
        "        elif a < 0.75:\n",
        "            midsize +=1\n",
        "        elif a < 0.85:\n",
        "            luxury += 1\n",
        "        else:\n",
        "            van += 1\n",
        "    commission = 0\n",
        "    while compact > 0:\n",
        "        commission = commission + 250\n",
        "        compact -= 1\n",
        "    while midsize > 0:\n",
        "        c = random.random()\n",
        "        if c < 0.4:\n",
        "            commission = commission + 400\n",
        "        else:\n",
        "            commission = commission + 500\n",
        "        midsize -= 1\n",
        "    while luxury > 0:\n",
        "        c = random.random()\n",
        "        if c < 0.35:\n",
        "            commission = commission + 1000\n",
        "        elif c < 0.75:\n",
        "            commission = commission + 1500\n",
        "        else:\n",
        "            commission = commission + 2000\n",
        "        luxury -= 1\n",
        "    while van > 0:\n",
        "        c = random.random()\n",
        "        if c < 0.4:\n",
        "            commission = commission + 2000\n",
        "        elif c < 1:\n",
        "            commission = commission + 3000\n",
        "        van -= 1\n",
        "    if commission > 10000:\n",
        "        counter += 1\n",
        "    total_com += commission\n",
        "    #print(total_com)\n",
        "\n",
        "print(\"expected commission per week is:\",total_com/300)\n",
        "print(\"P(X>10000)=\",counter/300)"
      ],
      "execution_count": null,
      "outputs": [
        {
          "output_type": "stream",
          "text": [
            "expected commission per week is: 2197.3333333333335\n",
            "P(X>10000)= 0.0033333333333333335\n"
          ],
          "name": "stdout"
        }
      ]
    },
    {
      "cell_type": "markdown",
      "metadata": {
        "id": "ulfnyFRm4THx"
      },
      "source": [
        "# **Question 10**"
      ]
    },
    {
      "cell_type": "markdown",
      "metadata": {
        "id": "BEGrojsy4bx6"
      },
      "source": [
        "A simplified model for the spread of a rumor goes this way: There are N=30 people in a group of friends, of which some have heard of the rumor and the others have not. During any single period of time, two persons are selected at random from the group and assumed to interact. If one of these persons has heard the rumor and the other has not, then with a probability 0.20, the rumor is transmitted. Assuming that this process begins at time t=0 with a single person knowing the rumor and the first interaction occurs at time t=1, simulate the system for 200 times to find the following quantities:       \n",
        "a. Average time that it takes for everyone to hear the rumor.       \n",
        "b. Probability that at least 20 people know the humor at time t=100.        \n",
        "c. Probability that at most 4 people know the humor at time t=10.       \n",
        "d. What happens to the above quantities in part a, b and c if the transmission probability increases to 0.30? Are the results intuitively expected?      \n",
        "e. What happens to the above quantities in part a, b and c if the transmission probability decreases to 0.001? Are the results intuitively expected?       \n",
        "f. What happens to the above quantities in part a, b and c if the transmission probability increases to 0.999? Are the results intuitively expected?       "
      ]
    },
    {
      "cell_type": "code",
      "metadata": {
        "colab": {
          "base_uri": "https://localhost:8080/"
        },
        "id": "PWnR8Atq4RQL",
        "outputId": "db1e2ea6-cd07-4b9f-daf8-7c16ed3137eb"
      },
      "source": [
        "prob_list = [20,30,0.1,99.9]\n",
        "for p in prob_list:\n",
        "  total_t = 0\n",
        "  prob_b = 0\n",
        "  prob_c = 0\n",
        "  for n in range(200):\n",
        "    t=0\n",
        "    N_list = [0]*30\n",
        "    N_list[random.randint(0,30)] = 1\n",
        "    #print(N_list)\n",
        "    while t >= 0:\n",
        "      t += 1\n",
        "      person1 = random.randint(0,30)\n",
        "      person2 = random.randint(0,30)\n",
        "      while person1 == person2:\n",
        "        person2 = random.randint(0,30)\n",
        "      if N_list[person1] == 1:\n",
        "        if N_list[person2] == 0:\n",
        "          prob = np.random.uniform(0,100)\n",
        "          if prob <= 20:\n",
        "            N_list[person2] = 1\n",
        "            #print(\"spread\")\n",
        "      if N_list[person2] == 1:\n",
        "        if N_list[person1] == 0:\n",
        "          prob = np.random.uniform(0,100)\n",
        "          if prob <= p:\n",
        "            N_list[person1] = 1\n",
        "            #print(\"spread\")\n",
        "      #print(\"t=\",t,N_list)\n",
        "      transmitted = 0\n",
        "      for i in N_list:\n",
        "        if i == 1:\n",
        "          transmitted += 1\n",
        "        if transmitted == 30:\n",
        "          total_t += t\n",
        "          t = -1\n",
        "      if t == 100 and transmitted >= 20:\n",
        "        prob_b += 1\n",
        "      if t == 10 and transmitted >= 4:\n",
        "        prob_c += 1\n",
        "      #print(\"# of ppl transmitted to (incl. first person):\",transmitted)\n",
        "  if p == 30:\n",
        "    print(\"----------------\\n\\td:\")\n",
        "  elif p == 0.1:\n",
        "    print(\"----------------\\n\\te:\")\n",
        "  elif p == 99.9:\n",
        "    print(\"----------------\\n\\tf:\")\n",
        "  print(\"a. For p =\",p/100,\" on average, everyone hears the rumor after\",\n",
        "          total_t/200,\"interactions.\")\n",
        "  print(\"b. Prob of 20+ ppl hearing it by t=100 is:\",prob_b/200)\n",
        "  print(\"c. Prob of 4+  ppl hearing it by t=10  is:\",prob_b/200)"
      ],
      "execution_count": null,
      "outputs": [
        {
          "output_type": "stream",
          "text": [
            "a. For p = 0.2  on average, everyone hears the rumor after 571.985 interactions.\n",
            "b. Prob of 20+ ppl hearing it by t=100 is: 0.0\n",
            "c. Prob of 4+  ppl hearing it by t=10  is: 0.0\n",
            "----------------\n",
            "\td:\n",
            "a. For p = 0.3  on average, everyone hears the rumor after 468.235 interactions.\n",
            "b. Prob of 20+ ppl hearing it by t=100 is: 0.0\n",
            "c. Prob of 4+  ppl hearing it by t=10  is: 0.0\n",
            "----------------\n",
            "\te:\n",
            "a. For p = 0.001  on average, everyone hears the rumor after 1159.16 interactions.\n",
            "b. Prob of 20+ ppl hearing it by t=100 is: 0.0\n",
            "c. Prob of 4+  ppl hearing it by t=10  is: 0.0\n",
            "----------------\n",
            "\tf:\n",
            "a. For p = 0.9990000000000001  on average, everyone hears the rumor after 194.125 interactions.\n",
            "b. Prob of 20+ ppl hearing it by t=100 is: 0.465\n",
            "c. Prob of 4+  ppl hearing it by t=10  is: 0.465\n"
          ],
          "name": "stdout"
        }
      ]
    }
  ]
}